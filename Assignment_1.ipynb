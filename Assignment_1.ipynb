{
  "nbformat": 4,
  "nbformat_minor": 0,
  "metadata": {
    "colab": {
      "provenance": [],
      "authorship_tag": "ABX9TyNy0TwCV05xUx51BTl46XAW",
      "include_colab_link": true
    },
    "kernelspec": {
      "name": "python3",
      "display_name": "Python 3"
    },
    "language_info": {
      "name": "python"
    }
  },
  "cells": [
    {
      "cell_type": "markdown",
      "metadata": {
        "id": "view-in-github",
        "colab_type": "text"
      },
      "source": [
        "<a href=\"https://colab.research.google.com/github/MSKARIUKI/MSKARIUKI/blob/main/Assignment_1.ipynb\" target=\"_parent\"><img src=\"https://colab.research.google.com/assets/colab-badge.svg\" alt=\"Open In Colab\"/></a>"
      ]
    },
    {
      "cell_type": "code",
      "source": [
        "# user_input.py\n",
        "\n",
        "# Input name and store it in a variable called \"name\"\n",
        "name = input(\"Enter your name: \")\n",
        "\n",
        "# Input age and store it in a variable called \"age\"\n",
        "age = input(\"Enter your age: \")\n",
        "\n",
        "# Input location and store it in a variable called \"location\"\n",
        "location = input(\"Enter your location: \")\n",
        "\n",
        "# Print out a personalized message using the user's name, age, and location\n",
        "print(\"Hello {}, you are {} years old and live in {}.\".format(name, age, location))\n"
      ],
      "metadata": {
        "colab": {
          "base_uri": "https://localhost:8080/"
        },
        "id": "yXpJGShWU7Zx",
        "outputId": "a3791a97-7cd9-48f6-93ea-e9c5e4a4bf66"
      },
      "execution_count": null,
      "outputs": [
        {
          "output_type": "stream",
          "name": "stdout",
          "text": [
            "Enter your name: Nellius Kariuki\n",
            "Enter your age: 23\n",
            "Enter your location: Nairobi\n",
            "Hello Nellius Kariuki, you are 23 years old and live in Nairobi.\n"
          ]
        }
      ]
    }
  ]
}